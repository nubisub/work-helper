{
 "cells": [
  {
   "cell_type": "code",
   "execution_count": null,
   "metadata": {},
   "outputs": [
    {
     "ename": "ModuleNotFoundError",
     "evalue": "No module named 'example_pb2'",
     "output_type": "error",
     "traceback": [
      "\u001b[1;31m---------------------------------------------------------------------------\u001b[0m",
      "\u001b[1;31mModuleNotFoundError\u001b[0m                       Traceback (most recent call last)",
      "Cell \u001b[1;32mIn[1], line 2\u001b[0m\n\u001b[0;32m      1\u001b[0m \u001b[38;5;28;01mimport\u001b[39;00m \u001b[38;5;21;01mgrpc\u001b[39;00m\n\u001b[1;32m----> 2\u001b[0m \u001b[38;5;28;01mimport\u001b[39;00m \u001b[38;5;21;01mexample_pb2\u001b[39;00m\n\u001b[0;32m      3\u001b[0m \u001b[38;5;28;01mimport\u001b[39;00m \u001b[38;5;21;01mexample_pb2_grpc\u001b[39;00m\n",
      "\u001b[1;31mModuleNotFoundError\u001b[0m: No module named 'example_pb2'"
     ]
    }
   ],
   "source": [
    "import grpc\n",
    "import presensi_pb2\n",
    "import presensi_pb2_grpc\n",
    "\n",
    "def list_all_presensi():\n",
    "    # Connect to the gRPC server\n",
    "    channel = grpc.insecure_channel(\"backoffice.bps.go.id:443\")  # Use SSL if required\n",
    "\n",
    "    # Create a stub (client)\n",
    "    stub = presensi_pb2_grpc.PresensiServiceStub(channel)\n",
    "\n",
    "    # Create an empty request (if needed)\n",
    "    request = presensi_pb2.ListAllRequest()  # Change this based on your .proto file\n",
    "\n",
    "    # Make the request\n",
    "    try:\n",
    "        response = stub.ListAll(request)\n",
    "        print(f\"Response: {response}\")\n",
    "    except grpc.RpcError as e:\n",
    "        print(f\"Error: {e.details()} (Code: {e.code()})\")\n",
    "\n",
    "if __name__ == \"__main__\":\n",
    "    list_all_presensi()\n"
   ]
  }
 ],
 "metadata": {
  "kernelspec": {
   "display_name": "Python 3",
   "language": "python",
   "name": "python3"
  },
  "language_info": {
   "codemirror_mode": {
    "name": "ipython",
    "version": 3
   },
   "file_extension": ".py",
   "mimetype": "text/x-python",
   "name": "python",
   "nbconvert_exporter": "python",
   "pygments_lexer": "ipython3",
   "version": "3.13.1"
  }
 },
 "nbformat": 4,
 "nbformat_minor": 2
}
