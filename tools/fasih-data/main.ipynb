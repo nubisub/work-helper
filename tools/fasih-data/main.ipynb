{
 "cells": [
  {
   "cell_type": "code",
   "execution_count": null,
   "metadata": {},
   "outputs": [],
   "source": [
    "import pandas as pd\n"
   ]
  },
  {
   "cell_type": "code",
   "execution_count": null,
   "metadata": {},
   "outputs": [],
   "source": [
    "jsonData = pd.read_json('sampel.json')"
   ]
  },
  {
   "cell_type": "code",
   "execution_count": null,
   "metadata": {},
   "outputs": [],
   "source": [
    "data = jsonData['searchData']"
   ]
  },
  {
   "cell_type": "code",
   "execution_count": null,
   "metadata": {},
   "outputs": [],
   "source": [
    "df = pd.DataFrame()\n",
    "# loop through the data\n",
    "for i in data:\n",
    "    nama = i['data2']\n",
    "    bangunan = i['data3']\n",
    "    sls = i['region']['level1']['level2']['level3']['level4']['level5']['level6']['level7']['name']\n",
    "    kecamatan = i['region']['level1']['level2']['level3']['name']\n",
    "    kelurahan = i['region']['level1']['level2']['level3']['level4']['name']\n",
    "    petugas = i['currentUserFullname']\n",
    "    df = pd.concat([df, pd.DataFrame({'nama': [nama], 'sls': [sls], 'kelurahan': [kelurahan],'kecamatan': [kecamatan], 'bangunan':bangunan,  'petugas': [petugas]})])\n",
    "    "
   ]
  },
  {
   "cell_type": "code",
   "execution_count": null,
   "metadata": {},
   "outputs": [],
   "source": [
    "print(df)"
   ]
  },
  {
   "cell_type": "code",
   "execution_count": null,
   "metadata": {},
   "outputs": [],
   "source": [
    "df.to_csv('sampel.csv')"
   ]
  }
 ],
 "metadata": {
  "kernelspec": {
   "display_name": "Python 3",
   "language": "python",
   "name": "python3"
  },
  "language_info": {
   "codemirror_mode": {
    "name": "ipython",
    "version": 3
   },
   "file_extension": ".py",
   "mimetype": "text/x-python",
   "name": "python",
   "nbconvert_exporter": "python",
   "pygments_lexer": "ipython3",
   "version": "3.13.1"
  }
 },
 "nbformat": 4,
 "nbformat_minor": 2
}
